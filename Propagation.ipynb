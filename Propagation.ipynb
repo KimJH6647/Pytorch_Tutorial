{
  "nbformat": 4,
  "nbformat_minor": 0,
  "metadata": {
    "colab": {
      "name": "Propagation.ipynb",
      "provenance": [],
      "collapsed_sections": []
    },
    "kernelspec": {
      "name": "python3",
      "display_name": "Python 3"
    }
  },
  "cells": [
    {
      "cell_type": "markdown",
      "metadata": {
        "id": "yOION0pYQEGL"
      },
      "source": [
        "## 예제로 배우는 파이토치(Pytorch)\r\n",
        "\r\n",
        "### 특징\r\n",
        "\r\n",
        "- Numpy와 유사하지만 GPU 상에서 실행 가능한 N차원 Tensor\r\n",
        "- 신경망을 구성하고 학습하는 과정에서의 자동 미분"
      ]
    },
    {
      "cell_type": "markdown",
      "metadata": {
        "id": "3CjvEyWDPOND"
      },
      "source": [
        "## Pytorch Network Training\r\n",
        "\r\n",
        "### Input\r\n",
        "\r\n",
        "1. realizations of Independent variable \r\n",
        "2. Initial values of all weights \r\n",
        "3. Build a Network \r\n",
        "\r\n",
        "    __def__ __ init __: torch.nn.Module $\\leftarrow$ super & Set All Parameters of Network\r\n",
        "    \r\n",
        "    __def__ forward: Build a Network using __  init  __ \r\n",
        "\r\n",
        "4. realizations of Dependent variable   \r\n",
        "5. Loss function (torch.nn.MSELoss)\r\n",
        "6. Otimization (torch.optim.SGD)\r\n",
        "\r\n",
        "\r\n",
        "### Output\r\n",
        "\r\n",
        "1. Updated all weights \r\n",
        "\r\n",
        "### Process\r\n",
        "For $i$ = 1:  \r\n",
        "1. Calculate Forward values using Initial values(2), Forward function(3) and Independent variable realization(1) \r\n",
        "2. Calculate Loss values using Forward values, Loss function(5) and Dependent variable realization(4) \r\n",
        "3. Calculate Gradient using (5) and (6)\r\n",
        "\r\n",
        "    - optimizer.zero_grad() # initialize gradient\r\n",
        "    \r\n",
        "    - loss.backward() # calculate gradient\r\n",
        "\r\n",
        "4. Update all weights\r\n",
        "  \r\n",
        "    - optimizer.step() # update weight\r\n"
      ]
    },
    {
      "cell_type": "markdown",
      "metadata": {
        "id": "O672QnfmPYQ6"
      },
      "source": [
        "## Calculate Gradient"
      ]
    },
    {
      "cell_type": "markdown",
      "metadata": {
        "id": "cjigLVCWM_Qz"
      },
      "source": [
        "\r\n",
        "\r\n",
        "### 1) Data Matrix\r\n",
        "\r\n",
        "<br>\r\n",
        "\r\n",
        "$$ X = \\begin{bmatrix} x_{11} &...& x_{1p} \\\\ & \\vdots & \\\\ x\r\n",
        "_{n1}&  ... & x_{np}  \\end{bmatrix}   : n \\times p$$\r\n",
        "\r\n",
        "<br>\r\n",
        "$$ Y = \\begin{bmatrix} y_{11} &...& y_{1k} \\\\ & \\vdots & \\\\ y\r\n",
        "_{n1}&  ... & y_{nk}  \\end{bmatrix}   : n \\times k$$\r\n",
        "<br>\r\n",
        "\r\n",
        "$$where,$$\r\n",
        "<br>\r\n",
        "\r\n",
        "$$y_{ij} \\in \\{ 0,1 \\}$$\r\n",
        "\r\n",
        "$$and$$ \r\n",
        "$$\\sum_{j=1}^k y_{ij} = 1$$\r\n",
        "\r\n",
        "<br>\r\n",
        "\r\n",
        "$$ W_1 = \\begin{bmatrix} w_{111} & w_{112} &...& w_{11h} \\\\ & & \\vdots & \\\\ w\r\n",
        "_{1p1}& w_{1p2} & ... & w_{1ph}  \\end{bmatrix} : p \\times h$$\r\n",
        "\r\n",
        "\r\n",
        "<br>\r\n",
        "\r\n",
        "$$ W_2 = \\begin{bmatrix} w_{211} & w_{212} &...& w_{21k} \\\\& & \\vdots & \\\\ w_{2h1}& w_{2h2} & ... & w_{2hk}  \\end{bmatrix}  : h \\times k$$\r\n",
        "\r\n",
        "\r\n",
        "<br>\r\n",
        "\r\n",
        "\r\n",
        "### 2) Feed Forward\r\n",
        "\r\n",
        "<br>\r\n",
        "\r\n",
        "$$ H = X \\cdot W_1$ : $n \\times h$$\r\n",
        "\r\n",
        "$$ H_{relu} = ReLU(H) $ : $n \\times h$$\r\n",
        "\r\n",
        "$$ Y_{pred} = H_{relu} \\cdot W_2 $ : $n \\times k$$\r\n",
        "\r\n",
        "\r\n",
        "<br>\r\n",
        "\r\n",
        "\r\n",
        "\r\n",
        "### 3) Back Propagation\r\n",
        "\r\n",
        "<br>\r\n",
        "\r\n",
        "$$ l(W_1, W_2) =  Tr[(Y_{pred} - Y )^T (Y_{pred} - Y)] = \\sum_{i=1}^{n} \\sum_{j=1}^{k} (y_{ij}^{pred} -y_{ij} )^2    : Scalar $$\r\n",
        "\r\n",
        "</center>\r\n",
        "\r\n",
        "<br>\r\n",
        "\r\n",
        "<br>\r\n",
        "\r\n",
        "$$W_{2}^{(t)} = W_{2}^{(t-1)} - \\eta {\\partial l(W_1, W_2) \\over \\partial W_{2} }$$ \r\n",
        "\r\n",
        "<br>\r\n",
        "\r\n",
        "- grad_w2\r\n",
        "\r\n",
        "$${\\partial l(W_1, W_2) \\over \\partial W_{2} } =  \\begin{bmatrix} {\\partial l(W_1, W_2) \\over \\partial w_{211} } & {\\partial l(W_1, W_2) \\over \\partial w_{212} } &...&   {\\partial l(W_1, W_2) \\over \\partial w_{21k} } \\\\& & \\vdots & \\\\ {\\partial l(W_1, W_2) \\over \\partial w_{2h1} }& {\\partial l(W_1, W_2) \\over \\partial w_{2h2} } & ... &  {\\partial l(W_1, W_2) \\over \\partial w_{2hk} }  \\end{bmatrix}  :h \\times k $$\r\n",
        "\r\n",
        "\r\n",
        "<br>\r\n",
        "\r\n",
        "#### [Chain Rule]\r\n",
        "\r\n",
        "$${\\partial l(W_1, W_2) \\over \\partial w_{2im} } =  {\\partial l(W_1, W_2) \\over \\partial y_{im}^{pred}} \\cdot {\\partial y_{im}^{pred} \\over \\partial w_{2im}}  $$\r\n",
        "\r\n",
        "<br>\r\n",
        "\r\n",
        "$${\\partial y_{im}^{pred} \\over \\partial w_{2jm}} = h_{ij}^{relu} ,  \\forall m \\in \\{1, ..., k\\}$$\r\n",
        "\r\n",
        "<br>\r\n",
        "\r\n",
        "- grad_y_pred(usually calcuated by using a numerical differentiation)\r\n",
        "\r\n",
        "$$  2(Y_{pred} - Y) \r\n",
        "= \\begin{bmatrix} 2(y_{11}^{pred} - y_{11}) & 2(y_{12}^{pred} - y_{12}) &...&   2(y_{1k}^{pred} - y_{1k}) \\\\& & \\vdots & \\\\ 2(y_{n1}^{pred} - y_{n1}) & 2(y_{n2}^{pred} - y_{n2}) & ... & 2(y_{nk}^{pred} - y_{nk}) \\end{bmatrix}\r\n",
        "= \\begin{bmatrix} {\\partial l(W_1, W_2) \\over \\partial y_{11}^{pred} } & {\\partial l(W_1, W_2) \\over \\partial y_{12}^{pred} } &...&   {\\partial l(W_1, W_2) \\over \\partial y_{1k}^{pred} } \\\\& & \\vdots & \\\\ {\\partial l(W_1, W_2) \\over  \\partial y_{n1}^{pred} }& {\\partial l(W_1, W_2) \\over \\partial y_{n2}^{pred}} & ... &  {\\partial l(W_1, W_2) \\over \\partial y_{nk}^{pred} }  \\end{bmatrix} : n \\times  k$$\r\n",
        "\r\n",
        "\r\n",
        "<br>\r\n",
        "\r\n",
        "- h_relu\r\n",
        "\r\n",
        "$$ H_{relu} \r\n",
        "= \\begin{bmatrix} h_{11}^{relu} & h_{12}^{relu} &...&   h_{1h}^{relu} \\\\& & \\vdots & \\\\ h_{n1}^{relu} & h_{n2}^{relu} &...&   h_{nh}^{relu} \\end{bmatrix}: n \\times h\r\n",
        "$$\r\n",
        "\r\n",
        "<br>\r\n",
        "\r\n",
        "$\\Rightarrow$ we can obtain grad_w2 by h_relu.T.dot(grad_y_pred) in below python code.\r\n",
        "\r\n",
        "\r\n",
        "\r\n",
        "<br>\r\n",
        "<br>\r\n",
        "\r\n",
        "$$W_{1}^{(t)} = W_{1}^{(t-1)} + \\eta {\\partial l(W_1, W_2) \\over \\partial W_{1} }$$\r\n",
        "\r\n",
        "$${\\partial l(W_1, W_2) \\over \\partial W_1} =  [{\\partial H \\over \\partial W_1}]^T \\cdot  { H_{relu} \\over \\partial H} ( {\\partial l(W_1, W_2) \\over \\partial Y_{pred}} \\cdot [{\\partial Y_{pred}  \\over \\partial H_{relu}}]^T ) = [{\\partial H \\over \\partial W_1}]^T \\cdot  { H_{relu} \\over \\partial H} = [{\\partial H \\over \\partial W_1}]^T \\cdot grad_h\r\n",
        "  $$\r\n",
        "\r\n",
        "\r\n",
        "$\\Rightarrow$ We only define the grad_h_relu as backword function in activation class."
      ]
    },
    {
      "cell_type": "markdown",
      "metadata": {
        "id": "cH1v0UxWM-sH"
      },
      "source": [
        "# Numpy"
      ]
    },
    {
      "cell_type": "code",
      "metadata": {
        "colab": {
          "base_uri": "https://localhost:8080/"
        },
        "id": "vDS1x59kQPv3",
        "outputId": "d9ed1825-0c8a-4d4b-e6b3-207c46f48ee7"
      },
      "source": [
        "import numpy as np\r\n",
        "\r\n",
        "# N은 배치 크기이며, D_in은 입력의 차원입니다.\r\n",
        "# H는 은닉층의 차원이며, D_out은 출력 차원입니다.\r\n",
        "\r\n",
        "N, D_in, H, D_out = 64,1000,100,10\r\n",
        "\r\n",
        "# 무작위의 입력과 출력 데이터를 생성합니다\r\n",
        "\r\n",
        "x = np.random.randn(N, D_in)\r\n",
        "y = np.random.randn(N, D_out)\r\n",
        "\r\n",
        "# 무작위로 가중치를 초기화합니다.\r\n",
        "\r\n",
        "w1 = np.random.randn(D_in , H)\r\n",
        "w2 = np.random.randn(H, D_out)\r\n",
        "\r\n",
        "learning_rate = 1e-6\r\n",
        "\r\n",
        "for t in range(500):\r\n",
        "  # 순전파 단계 : 예측값 y를 계산합니다.\r\n",
        "  h = x.dot(w1) # N * H\r\n",
        "  h_relu = np.maximum(h,0) # N*H\r\n",
        "  y_pred = h_relu.dot(w2) # N*D_out\r\n",
        "\r\n",
        "  # 손실(loss)을 계산하고 출력합니다.\r\n",
        "  loss = np.square(y_pred - y).sum() # N * D_out\r\n",
        "  if t % 100 == 99:\r\n",
        "    print(t, loss)\r\n",
        "\r\n",
        "  # 손실에 따른 w1, w2의 변화도를 계산하고 역전파합니다.\r\n",
        "  grad_y_pred = 2.0 * (y_pred - y)  # N * D_out\r\n",
        "  grad_w2 = h_relu.T.dot(grad_y_pred) # H * D_out\r\n",
        "  grad_h_relu = grad_y_pred.dot(w2.T) # N * H\r\n",
        "  grad_h = grad_h_relu.copy() # N * H\r\n",
        "  grad_h[h < 0] = 0\r\n",
        "  grad_w1 = x.T.dot(grad_h) # D_in * H\r\n",
        "\r\n",
        "  # 가중치를 갱신합니다.\r\n",
        "  w1 -= learning_rate * grad_w1\r\n",
        "  w2 -= learning_rate * grad_w2"
      ],
      "execution_count": null,
      "outputs": [
        {
          "output_type": "stream",
          "text": [
            "99 472.2074637701616\n",
            "199 2.3078627350649414\n",
            "299 0.01803004038425645\n",
            "399 0.0001614233307584353\n",
            "499 1.543662060695297e-06\n"
          ],
          "name": "stdout"
        }
      ]
    },
    {
      "cell_type": "markdown",
      "metadata": {
        "id": "TGtBTMiSRR96"
      },
      "source": [
        "# PyTorch: Tensors"
      ]
    },
    {
      "cell_type": "code",
      "metadata": {
        "colab": {
          "base_uri": "https://localhost:8080/"
        },
        "id": "PgBnJwjWw9y2",
        "outputId": "6c21037f-b7c9-4dc4-cdbf-cf76c2f49aa3"
      },
      "source": [
        "import torch\r\n",
        "\r\n",
        "dtype = torch.float\r\n",
        "device = torch.device(\"cpu\")\r\n",
        "# device = torch.device(\"cuda:0\") # GPU에서 실행하려면 이 주석을 제거하세요.\r\n",
        "\r\n",
        "# N은 배치 크기이며, D_in은 입력의 차원입니다;\r\n",
        "# H는 은닉층의 차원이며, D_out은 출력 차원입니다.\r\n",
        "N, D_in, H, D_out = 64, 1000, 100, 10\r\n",
        "\r\n",
        "# 무작위의 입력과 출력 데이터를 생성합니다.\r\n",
        "x = torch.randn(N, D_in, device=device, dtype=dtype)\r\n",
        "y = torch.randn(N, D_out, device=device, dtype=dtype)\r\n",
        "\r\n",
        "# 무작위로 가중치를 초기화합니다.\r\n",
        "w1 = torch.randn(D_in, H, device=device, dtype=dtype)\r\n",
        "w2 = torch.randn(H, D_out, device=device, dtype=dtype)\r\n",
        "\r\n",
        "learning_rate = 1e-6\r\n",
        "for t in range(500):\r\n",
        "    # 순전파 단계: 예측값 y를 계산합니다.\r\n",
        "    h = x.mm(w1)\r\n",
        "    h_relu = h.clamp(min=0)\r\n",
        "    y_pred = h_relu.mm(w2)\r\n",
        "\r\n",
        "    # 손실(loss)을 계산하고 출력합니다.\r\n",
        "    loss = (y_pred - y).pow(2).sum().item()\r\n",
        "    if t % 100 == 99:\r\n",
        "        print(t, loss)\r\n",
        "\r\n",
        "    # 손실에 따른 w1, w2의 변화도를 계산하고 역전파합니다.\r\n",
        "    grad_y_pred = 2.0 * (y_pred - y)\r\n",
        "    grad_w2 = h_relu.t().mm(grad_y_pred)\r\n",
        "    grad_h_relu = grad_y_pred.mm(w2.t())\r\n",
        "    grad_h = grad_h_relu.clone()\r\n",
        "    grad_h[h < 0] = 0\r\n",
        "    grad_w1 = x.t().mm(grad_h)\r\n",
        "\r\n",
        "    # 경사하강법(gradient descent)를 사용하여 가중치를 갱신합니다.\r\n",
        "    w1 -= learning_rate * grad_w1\r\n",
        "    w2 -= learning_rate * grad_w2"
      ],
      "execution_count": null,
      "outputs": [
        {
          "output_type": "stream",
          "text": [
            "99 458.1446838378906\n",
            "199 2.5180087089538574\n",
            "299 0.02476966194808483\n",
            "399 0.0005090429331175983\n",
            "499 6.50275542284362e-05\n"
          ],
          "name": "stdout"
        }
      ]
    },
    {
      "cell_type": "markdown",
      "metadata": {
        "id": "zQtZnIkWMLS7"
      },
      "source": [
        "## Autograd"
      ]
    },
    {
      "cell_type": "code",
      "metadata": {
        "id": "0fzCd4me6qYX",
        "colab": {
          "base_uri": "https://localhost:8080/"
        },
        "outputId": "d3041a15-e329-46ad-817a-7362b5c86be9"
      },
      "source": [
        "import torch\r\n",
        "\r\n",
        "dtype = torch.float\r\n",
        "device = torch.device(\"cpu\")\r\n",
        "\r\n",
        "N,D_in,H,D_out = 64,1000, 100, 10\r\n",
        "\r\n",
        "x = torch.randn(N,D_in, device= device, dtype = dtype) # requires_grad = False (default): don't calculate gradient\r\n",
        "y = torch.randn(N,D_out, device = device, dtype=dtype) # requires_grad = False (default) \r\n",
        "\r\n",
        "w1 = torch.randn(D_in,H, device=device, dtype=dtype, requires_grad = True) # requires_grad = True: calculate gradient\r\n",
        "w2 = torch.randn(H,D_out, device=device, dtype=dtype, requires_grad=True)\r\n",
        "\r\n",
        "learning_rate = 1e-6\r\n",
        "for t in range(500):\r\n",
        "    # forward\r\n",
        "    y_pred = x.mm(w1).clamp(min=0).mm(w2)\r\n",
        "\r\n",
        "    # loss\r\n",
        "    loss = (y_pred - y).pow(2).sum()\r\n",
        "    if t % 100 == 99:\r\n",
        "        print(t,loss.item())\r\n",
        "\r\n",
        "    # backward\r\n",
        "    loss.backward()\r\n",
        "\r\n",
        "    # Manually weight update\r\n",
        "    with torch.no_grad():\r\n",
        "        w1 -= learning_rate * w1.grad\r\n",
        "        w2 -= learning_rate * w2.grad\r\n",
        "\r\n",
        "        # After updating gradient, we have to make gradient zero.\r\n",
        "        w1.grad.zero_()\r\n",
        "        w2.grad.zero_()"
      ],
      "execution_count": null,
      "outputs": [
        {
          "output_type": "stream",
          "text": [
            "99 324.3523254394531\n",
            "199 0.8000394105911255\n",
            "299 0.004439877811819315\n",
            "399 0.00014366494724527001\n",
            "499 2.9067763534840196e-05\n"
          ],
          "name": "stdout"
        }
      ]
    },
    {
      "cell_type": "markdown",
      "metadata": {
        "id": "foB8ClI-MZMO"
      },
      "source": [
        "# Pytorch: 새 autograd 함수 정의하기"
      ]
    },
    {
      "cell_type": "code",
      "metadata": {
        "id": "R1vlfWZxMSF7",
        "colab": {
          "base_uri": "https://localhost:8080/"
        },
        "outputId": "33839d6d-cf9a-4849-d885-f41c0f392d40"
      },
      "source": [
        "import torch\r\n",
        "\r\n",
        "# Define Activation Function\r\n",
        "class MyReLU(torch.autograd.Function):\r\n",
        "\r\n",
        "  @staticmethod # decorator \r\n",
        "  def forward(ctx, input):\r\n",
        "    '''\r\n",
        "    순전파 단계에서는 입력을 갖는 Tensor를 받아 출력을 갖는 Tensor를 반환합니다.\r\n",
        "    ctx는 컨텍스트 객체(context object)로 역전파 연산을 위한 정보 저장에\r\n",
        "    사용합니다. ctx.save_for_backward method를 사용하여 역전파 단계에서 사용할 어떠한\r\n",
        "    객체도 저장(cache)해 둘 수 있습니다.\r\n",
        "    '''\r\n",
        "    ctx.save_for_backward(input)\r\n",
        "    return input.clamp(min=0)\r\n",
        "  \r\n",
        "  @staticmethod\r\n",
        "  def backward(ctx, grad_output):\r\n",
        "    '''\r\n",
        "    역전파 단계에서는 출력에 대한 손실의 변화도를 갖는 Tensor를 받고, 입력에 대한 손실의 변화도를 계산합니다.\r\n",
        "    '''\r\n",
        "    input, = ctx.saved_tensors\r\n",
        "    grad_input = grad_output.clone()\r\n",
        "    grad_input[input<0] =0 # grad_h\r\n",
        "    return grad_input\r\n",
        "  \r\n",
        "dtype = torch.float\r\n",
        "device = torch.device(\"cpu\")\r\n",
        "\r\n",
        "# N은 배치 크기이며, D_in은 입력의 차원입니다.\r\n",
        "# H는 은닉층의 차원이며, D_out 출력 차원입니다.\r\n",
        "\r\n",
        "N, D_in, H, D_out = 64,1000,100,10\r\n",
        "\r\n",
        "# 입력과 출력을 저장하기 위해 무작위 값을 갖는 Tensor를 생성합니다.\r\n",
        "x= torch.randn(N,D_in, device= device, dtype=dtype)\r\n",
        "y= torch.randn(N,D_out, device = device, dtype=dtype)\r\n",
        "\r\n",
        "# 가중치를 저장하기 위해 무작위 값을 갖는 Tensor를 생성합니다.\r\n",
        "w1 = torch.randn(D_in, H, device=device, dtype=dtype, requires_grad=True)\r\n",
        "w2 = torch.randn(H,D_out, device=device, dtype=dtype,requires_grad=True)\r\n",
        "# 가중치만 밖에 나가 있으면 됨?\r\n",
        "\r\n",
        "learning_rate = 1e-6\r\n",
        "for t in range(500):\r\n",
        "  # 사용자 정의 Function을 적용하기 위해 Function.apply 메소드를 사용합니다.\r\n",
        "  relu = MyReLU.apply\r\n",
        "\r\n",
        "  # 순전파 단계 : Tensor 연산을 사용하여 예상되는 y 값을 계산합니다;\r\n",
        "  # 사용자 정의 autograd 연산을 사용하여 Relu 를 계산합니다.\r\n",
        "  y_pred = relu(x.mm(w1)).mm(w2)\r\n",
        "\r\n",
        "  # 손실을 계산하고 출력합니다.\r\n",
        "  loss = (y_pred - y).pow(2).sum()\r\n",
        "  if t % 100 ==99:\r\n",
        "    print(t ,loss)\r\n",
        "\r\n",
        "  # autograd를 사용하여 역전파 단계를 계산합니다.\r\n",
        "  loss.backward()\r\n",
        "\r\n",
        "  # 경사 하강법(gradient descent)을 사용하여 가중치를 갱신합니다.\r\n",
        "  with torch.no_grad():\r\n",
        "    w1 -= learning_rate * w1.grad\r\n",
        "    w2 -= learning_rate * w2.grad\r\n",
        "\r\n",
        "    # 가중치 갱신 후에는 수동으로 변화도를 0으로 만듭니다.\r\n",
        "    w1.grad.zero_()\r\n",
        "    w2.grad.zero_()"
      ],
      "execution_count": null,
      "outputs": [
        {
          "output_type": "stream",
          "text": [
            "99 tensor(469.1736, grad_fn=<SumBackward0>)\n",
            "199 tensor(3.0971, grad_fn=<SumBackward0>)\n",
            "299 tensor(0.0421, grad_fn=<SumBackward0>)\n",
            "399 tensor(0.0010, grad_fn=<SumBackward0>)\n",
            "499 tensor(0.0001, grad_fn=<SumBackward0>)\n"
          ],
          "name": "stdout"
        }
      ]
    },
    {
      "cell_type": "markdown",
      "metadata": {
        "id": "lNNfDOgRuH9a"
      },
      "source": [
        "## pytorch: nn"
      ]
    },
    {
      "cell_type": "code",
      "metadata": {
        "id": "goj7S1nim9TP",
        "colab": {
          "base_uri": "https://localhost:8080/"
        },
        "outputId": "a5af1ccc-e331-4745-e143-8acacb203b7a"
      },
      "source": [
        "import torch\r\n",
        "\r\n",
        "# N은 배치 크기이며, D_in은 입력의 차원입니다;\r\n",
        "# H는 은닉층의 차원이며, D_out은 출력 차원입니다.\r\n",
        "N, D_in, H, D_out = 64, 1000, 100, 10\r\n",
        "\r\n",
        "# 입력과 출력을 저장하기 위해 무작위 값을 갖는 Tensor를 생성합니다.\r\n",
        "x = torch.randn(N, D_in)\r\n",
        "y = torch.randn(N, D_out)\r\n",
        "\r\n",
        "# nn 패키지를 사용하여 모델을 순차적 계층(sequence of layers)으로 정의합니다.\r\n",
        "# nn.Sequential은 다른 Module들을 포함하는 Module로, 그 Module들을 순차적으로\r\n",
        "# 적용하여 출력을 생성합니다. 각각의 Linear Module은 선형 함수를 사용하여\r\n",
        "# 입력으로부터 출력을 계산하고, 내부 Tensor에 가중치와 편향을 저장합니다.\r\n",
        "model = torch.nn.Sequential(\r\n",
        "    torch.nn.Linear(D_in, H),\r\n",
        "    torch.nn.ReLU(),\r\n",
        "    torch.nn.Linear(H, D_out),\r\n",
        ")\r\n",
        "\r\n",
        "# 또한 nn 패키지에는 널리 사용하는 손실 함수들에 대한 정의도 포함하고 있습니다;\r\n",
        "# 여기에서는 평균 제곱 오차(MSE; Mean Squared Error)를 손실 함수로 사용하겠습니다.\r\n",
        "loss_fn = torch.nn.MSELoss(reduction='sum')\r\n",
        "\r\n",
        "learning_rate = 1e-4\r\n",
        "for t in range(500):\r\n",
        "    # 순전파 단계: 모델에 x를 전달하여 예상되는 y 값을 계산합니다. Module 객체는\r\n",
        "    # __call__ 연산자를 덮어써(override) 함수처럼 호출할 수 있게 합니다.\r\n",
        "    # 이렇게 함으로써 입력 데이터의 Tensor를 Module에 전달하여 출력 데이터의\r\n",
        "    # Tensor를 생성합니다.\r\n",
        "    y_pred = model(x)\r\n",
        "\r\n",
        "    # 손실을 계산하고 출력합니다. 예측한 y와 정답인 y를 갖는 Tensor들을 전달하고,\r\n",
        "    # 손실 함수는 손실 값을 갖는 Tensor를 반환합니다.\r\n",
        "    loss = loss_fn(y_pred, y)\r\n",
        "    if t % 100 == 99:\r\n",
        "        print(t, loss.item())\r\n",
        "\r\n",
        "    # 역전파 단계를 실행하기 전에 변화도를 0으로 만듭니다.\r\n",
        "    model.zero_grad()\r\n",
        "\r\n",
        "    # 역전파 단계: 모델의 학습 가능한 모든 매개변수에 대해 손실의 변화도를\r\n",
        "    # 계산합니다. 내부적으로 각 Module의 매개변수는 requires_grad=True 일 때\r\n",
        "    # Tensor 내에 저장되므로, 이 호출은 모든 모델의 모든 학습 가능한 매개변수의\r\n",
        "    # 변화도를 계산하게 됩니다.\r\n",
        "    loss.backward()\r\n",
        "\r\n",
        "    # 경사하강법(gradient descent)를 사용하여 가중치를 갱신합니다. 각 매개변수는\r\n",
        "    # Tensor이므로 이전에 했던 것과 같이 변화도에 접근할 수 있습니다.\r\n",
        "    with torch.no_grad():\r\n",
        "        for param in model.parameters():\r\n",
        "            param -= learning_rate * param.grad"
      ],
      "execution_count": 1,
      "outputs": [
        {
          "output_type": "stream",
          "text": [
            "99 2.327758550643921\n",
            "199 0.027104292064905167\n",
            "299 0.0007323547033593059\n",
            "399 2.812072852975689e-05\n",
            "499 1.2486798368627205e-06\n"
          ],
          "name": "stdout"
        }
      ]
    },
    {
      "cell_type": "markdown",
      "metadata": {
        "id": "FSsZBJy2uPbh"
      },
      "source": [
        "## PyTorch: optim"
      ]
    },
    {
      "cell_type": "code",
      "metadata": {
        "colab": {
          "base_uri": "https://localhost:8080/"
        },
        "id": "uq5iOoHZuOzX",
        "outputId": "a96851b5-43b4-4d22-f624-2944f964fbe5"
      },
      "source": [
        "import torch\r\n",
        "\r\n",
        "# N은 배치 크기이며, D_in은 입력의 차원입니다;\r\n",
        "# H는 은닉층의 차원이며, D_out은 출력 차원입니다.\r\n",
        "N, D_in, H, D_out = 64, 1000, 100, 10\r\n",
        "\r\n",
        "# 입력과 출력을 저장하기 위해 무작위 값을 갖는 Tensor를 생성합니다.\r\n",
        "x = torch.randn(N, D_in)\r\n",
        "y = torch.randn(N, D_out)\r\n",
        "\r\n",
        "# nn 패키지를 사용하여 모델과 손실 함수를 정의합니다.\r\n",
        "model = torch.nn.Sequential(\r\n",
        "    torch.nn.Linear(D_in, H),\r\n",
        "    torch.nn.ReLU(),\r\n",
        "    torch.nn.Linear(H, D_out),\r\n",
        ")\r\n",
        "loss_fn = torch.nn.MSELoss(reduction='sum')\r\n",
        "\r\n",
        "# optim 패키지를 사용하여 모델의 가중치를 갱신할 Optimizer를 정의합니다.\r\n",
        "# 여기서는 Adam을 사용하겠습니다; optim 패키지는 다른 다양한 최적화 알고리즘을\r\n",
        "# 포함하고 있습니다. Adam 생성자의 첫번째 인자는 어떤 Tensor가 갱신되어야 하는지\r\n",
        "# 알려줍니다.\r\n",
        "learning_rate = 1e-4\r\n",
        "optimizer = torch.optim.Adam(model.parameters(), lr=learning_rate)\r\n",
        "for t in range(500):\r\n",
        "    # 순전파 단계: 모델에 x를 전달하여 예상되는 y 값을 계산합니다.\r\n",
        "    y_pred = model(x)\r\n",
        "\r\n",
        "    # 손실을 계산하고 출력합니다.\r\n",
        "    loss = loss_fn(y_pred, y)\r\n",
        "    if t % 100 == 99:\r\n",
        "        print(t, loss.item())\r\n",
        "\r\n",
        "    # 역전파 단계 전에, Optimizer 객체를 사용하여 (모델의 학습 가능한 가중치인)\r\n",
        "    # 갱신할 변수들에 대한 모든 변화도를 0으로 만듭니다. 이렇게 하는 이유는\r\n",
        "    # 기본적으로 .backward()를 호출할 때마다 변화도가 버퍼(buffer)에 (덮어쓰지 않고)\r\n",
        "    # 누적되기 때문입니다. 더 자세한 내용은 torch.autograd.backward에 대한 문서를\r\n",
        "    # 참조하세요.\r\n",
        "    optimizer.zero_grad()\r\n",
        "\r\n",
        "    # 역전파 단계: 모델의 매개변수에 대한 손실의 변화도를 계산합니다.\r\n",
        "    loss.backward()\r\n",
        "\r\n",
        "    # Optimizer의 step 함수를 호출하면 매개변수가 갱신됩니다.\r\n",
        "    optimizer.step()"
      ],
      "execution_count": 2,
      "outputs": [
        {
          "output_type": "stream",
          "text": [
            "99 40.15929412841797\n",
            "199 0.579013466835022\n",
            "299 0.003962690010666847\n",
            "399 1.5288131180568598e-05\n",
            "499 1.9639289305928287e-08\n"
          ],
          "name": "stdout"
        }
      ]
    },
    {
      "cell_type": "markdown",
      "metadata": {
        "id": "4gT37lfMuVpu"
      },
      "source": [
        "## PyTorch: 사용자 정의 nn.Module"
      ]
    },
    {
      "cell_type": "code",
      "metadata": {
        "colab": {
          "base_uri": "https://localhost:8080/"
        },
        "id": "TEFNZfbouTXY",
        "outputId": "3b38fe8c-6c35-4683-847b-0afe4f5f38a8"
      },
      "source": [
        "import torch\r\n",
        "\r\n",
        "\r\n",
        "class TwoLayerNet(torch.nn.Module):\r\n",
        "    def __init__(self, D_in, H, D_out):\r\n",
        "        \"\"\"\r\n",
        "        생성자에서 2개의 nn.Linear 모듈을 생성하고, 멤버 변수로 지정합니다.\r\n",
        "        \"\"\"\r\n",
        "        super(TwoLayerNet, self).__init__()\r\n",
        "        self.linear1 = torch.nn.Linear(D_in, H)\r\n",
        "        self.linear2 = torch.nn.Linear(H, D_out)\r\n",
        "\r\n",
        "    def forward(self, x):\r\n",
        "        \"\"\"\r\n",
        "        순전파 함수에서는 입력 데이터의 Tensor를 받고 출력 데이터의 Tensor를\r\n",
        "        반환해야 합니다. Tensor 상의 임의의 연산자뿐만 아니라 생성자에서 정의한\r\n",
        "        Module도 사용할 수 있습니다.\r\n",
        "        \"\"\"\r\n",
        "        h_relu = self.linear1(x).clamp(min=0)\r\n",
        "        y_pred = self.linear2(h_relu)\r\n",
        "        return y_pred\r\n",
        "\r\n",
        "\r\n",
        "# N은 배치 크기이며, D_in은 입력의 차원입니다;\r\n",
        "# H는 은닉층의 차원이며, D_out은 출력 차원입니다.\r\n",
        "N, D_in, H, D_out = 64, 1000, 100, 10\r\n",
        "\r\n",
        "# 입력과 출력을 저장하기 위해 무작위 값을 갖는 Tensor를 생성합니다.\r\n",
        "x = torch.randn(N, D_in)\r\n",
        "y = torch.randn(N, D_out)\r\n",
        "\r\n",
        "# 앞에서 정의한 클래스를 생성하여 모델을 구성합니다.\r\n",
        "model = TwoLayerNet(D_in, H, D_out)\r\n",
        "\r\n",
        "# 손실 함수와 Optimizer를 만듭니다. SGD 생성자에 model.parameters()를 호출하면\r\n",
        "# 모델의 멤버인 2개의 nn.Linear 모듈의 학습 가능한 매개변수들이 포함됩니다.\r\n",
        "criterion = torch.nn.MSELoss(reduction='sum')\r\n",
        "optimizer = torch.optim.SGD(model.parameters(), lr=1e-4)\r\n",
        "for t in range(500):\r\n",
        "    # 순전파 단계: 모델에 x를 전달하여 예상되는 y 값을 계산합니다.\r\n",
        "    y_pred = model(x)\r\n",
        "\r\n",
        "    # 손실을 계산하고 출력합니다.\r\n",
        "    loss = criterion(y_pred, y)\r\n",
        "    if t % 100 == 99:\r\n",
        "        print(t, loss.item())\r\n",
        "\r\n",
        "    # 변화도를 0으로 만들고, 역전파 단계를 수행하고, 가중치를 갱신합니다.\r\n",
        "    optimizer.zero_grad()\r\n",
        "    loss.backward()\r\n",
        "    optimizer.step()"
      ],
      "execution_count": 3,
      "outputs": [
        {
          "output_type": "stream",
          "text": [
            "99 1.6890068054199219\n",
            "199 0.019715772941708565\n",
            "299 0.0006489359075203538\n",
            "399 3.3737804187694564e-05\n",
            "499 2.040675326497876e-06\n"
          ],
          "name": "stdout"
        }
      ]
    },
    {
      "cell_type": "markdown",
      "metadata": {
        "id": "7ERUhnDWurir"
      },
      "source": [
        "## PyTorch: 제어 흐름(Control Flow) + 가중치 공유(Weight Sharing)"
      ]
    },
    {
      "cell_type": "code",
      "metadata": {
        "id": "LE_Suq7c0x9i"
      },
      "source": [
        "import random\r\n",
        "import torch"
      ],
      "execution_count": 5,
      "outputs": []
    },
    {
      "cell_type": "code",
      "metadata": {
        "colab": {
          "base_uri": "https://localhost:8080/"
        },
        "id": "qCsjwHqQupAb",
        "outputId": "b5c0dae6-f38b-46c3-8786-04b2ce001ca1"
      },
      "source": [
        "\r\n",
        "class DynamicNet(torch.nn.Module):\r\n",
        "    def __init__(self, D_in, H, D_out):\r\n",
        "        \"\"\"\r\n",
        "        생성자에서 순전파 단계에서 사용할 3개의 nn.Linear 인스턴스를 생성합니다.\r\n",
        "        \"\"\"\r\n",
        "        super(DynamicNet, self).__init__()\r\n",
        "        self.input_linear = torch.nn.Linear(D_in, H)\r\n",
        "        self.middle_linear = torch.nn.Linear(H, H)\r\n",
        "        self.output_linear = torch.nn.Linear(H, D_out)\r\n",
        "\r\n",
        "    def forward(self, x):\r\n",
        "        \"\"\"\r\n",
        "        모델의 순전파 단계에서, 무작위로 0, 1, 2 또는 3 중에 하나를 선택하고\r\n",
        "        은닉층을 계산하기 위해 여러번 사용한 middle_linear Module을 재사용합니다.\r\n",
        "\r\n",
        "        각 순전파 단계는 동적 연산 그래프를 구성하기 때문에, 모델의 순전파 단계를\r\n",
        "        정의할 때 반복문이나 조건문과 같은 일반적인 Python 제어 흐름 연산자를 사용할\r\n",
        "        수 있습니다.\r\n",
        "\r\n",
        "        여기에서 연산 그래프를 정의할 때 동일 Module을 여러번 재사용하는 것이\r\n",
        "        완벽히 안전하다는 것을 알 수 있습니다. 이것이 각 Module을 한 번씩만 사용할\r\n",
        "        수 있었던 Lua Torch보다 크게 개선된 부분입니다.\r\n",
        "        \"\"\"\r\n",
        "        h_relu = self.input_linear(x).clamp(min=0)\r\n",
        "        for _ in range(random.randint(0, 3)):\r\n",
        "            h_relu = self.middle_linear(h_relu).clamp(min=0)\r\n",
        "        y_pred = self.output_linear(h_relu)\r\n",
        "        return y_pred\r\n",
        "\r\n",
        "\r\n",
        "# N은 배치 크기이며, D_in은 입력의 차원입니다;\r\n",
        "# H는 은닉층의 차원이며, D_out은 출력 차원입니다.\r\n",
        "N, D_in, H, D_out = 64, 1000, 100, 10\r\n",
        "\r\n",
        "# 입력과 출력을 저장하기 위해 무작위 값을 갖는 Tensor를 생성합니다.\r\n",
        "x = torch.randn(N, D_in)\r\n",
        "y = torch.randn(N, D_out)\r\n",
        "\r\n",
        "# 앞서 정의한 클래스를 생성(instantiating)하여 모델을 구성합니다.\r\n",
        "model = DynamicNet(D_in, H, D_out)\r\n",
        "\r\n",
        "# 손실함수와 Optimizer를 만듭니다. 이 이상한 모델을 순수한 확률적 경사 하강법\r\n",
        "# (stochastic gradient decent)으로 학습하는 것은 어려우므로, 모멘텀(momentum)을\r\n",
        "# 사용합니다.\r\n",
        "criterion = torch.nn.MSELoss(reduction='sum')\r\n",
        "optimizer = torch.optim.SGD(model.parameters(), lr=1e-4, momentum=0.9)\r\n",
        "for t in range(500):\r\n",
        "    # 순전파 단계: 모델에 x를 전달하여 예상되는 y 값을 계산합니다.\r\n",
        "    y_pred = model(x)\r\n",
        "\r\n",
        "    # 손실을 계산하고 출력합니다.\r\n",
        "    loss = criterion(y_pred, y)\r\n",
        "    if t % 100 == 99:\r\n",
        "        print(t, loss.item())\r\n",
        "\r\n",
        "    # 변화도를 0으로 만들고, 역전파 단계를 수행하고, 가중치를 갱신합니다.\r\n",
        "    optimizer.zero_grad()\r\n",
        "    loss.backward()\r\n",
        "    optimizer.step()"
      ],
      "execution_count": 9,
      "outputs": [
        {
          "output_type": "stream",
          "text": [
            "99 67.64453887939453\n",
            "199 1.9578406810760498\n",
            "299 0.8686320185661316\n",
            "399 0.2718488276004791\n",
            "499 0.14947840571403503\n"
          ],
          "name": "stdout"
        }
      ]
    }
  ]
}